{
 "cells": [
  {
   "cell_type": "code",
   "execution_count": 30,
   "metadata": {},
   "outputs": [
    {
     "name": "stdout",
     "output_type": "stream",
     "text": [
      "The autoreload extension is already loaded. To reload it, use:\n",
      "  %reload_ext autoreload\n"
     ]
    }
   ],
   "source": [
    "%load_ext autoreload\n",
    "%autoreload 2\n",
    "import os\n",
    "from functions import *\n",
    "from functions_unittests import *"
   ]
  },
  {
   "cell_type": "code",
   "execution_count": 31,
   "metadata": {
    "scrolled": false
   },
   "outputs": [
    {
     "name": "stdout",
     "output_type": "stream",
     "text": [
      "\u001b[1mCheckStatusNewNameTest\u001b[0m\n",
      "\t\u001b[1m\u001b[92m[OK]\u001b[0m\u001b[0m Test case where the company exists, name changed and phone changed\n",
      "\t\u001b[1m\u001b[92m[OK]\u001b[0m\u001b[0m Test case where the company exists, name changed and url changed\n",
      "\t\u001b[1m\u001b[92m[OK]\u001b[0m\u001b[0m Test case where the company exists, name changed and url/phone fields still None\n",
      "\t\u001b[1m\u001b[92m[OK]\u001b[0m\u001b[0m Test case where the company exists, only the name has changed\n",
      "\t\u001b[1m\u001b[92m[OK]\u001b[0m\u001b[0m Test case where the database is empty\n",
      "\t\u001b[1m\u001b[92m[OK]\u001b[0m\u001b[0m Test case where empty finnhub DataFrame\n",
      "\t\u001b[1m\u001b[92m[OK]\u001b[0m\u001b[0m Test case where there is a totally new company\n",
      "\u001b[1mKeepNewNamesTest\u001b[0m\n",
      "\t\u001b[1m\u001b[92m[OK]\u001b[0m\u001b[0m Test case where the company exists, name changed and phone changed\n",
      "\t\u001b[1m\u001b[92m[OK]\u001b[0m\u001b[0m Test case where the company exists, name changed and url changed\n",
      "\t\u001b[1m\u001b[92m[OK]\u001b[0m\u001b[0m Test case where the company exists, name changed and url/phone fields still None\n",
      "\t\u001b[1m\u001b[92m[OK]\u001b[0m\u001b[0m Test case where the company exists, only the name has changed\n",
      "\t\u001b[1m\u001b[92m[OK]\u001b[0m\u001b[0m Test case where the database is empty\n",
      "\t\u001b[1m\u001b[92m[OK]\u001b[0m\u001b[0m Test case where empty finnhub DataFrame\n",
      "\t\u001b[1m\u001b[92m[OK]\u001b[0m\u001b[0m Test case where the company exists\n",
      "\t\u001b[1m\u001b[92m[OK]\u001b[0m\u001b[0m Test case where there is a totally new company\n",
      "------------------------\n",
      "\u001b[1mRan 15 tests in 0.189s\n",
      "OK\n",
      "\u001b[0m\n"
     ]
    }
   ],
   "source": [
    "# Check unittests. Equivalent of: unittest.main(argv=[''], verbosity=2, exit=False)\n",
    "df = get_unittest_dataframe()\n",
    "display_unittest(df)"
   ]
  },
  {
   "cell_type": "code",
   "execution_count": 32,
   "metadata": {
    "scrolled": false
   },
   "outputs": [
    {
     "name": "stdout",
     "output_type": "stream",
     "text": [
      "test_company_exists_name_and_phone_changed (functions_unittests.CheckStatusNewNameTest)\n",
      "Test case where the company exists, name changed and phone changed ... ok\n",
      "test_company_exists_name_and_url_changed (functions_unittests.CheckStatusNewNameTest)\n",
      "Test case where the company exists, name changed and url changed ... ok\n",
      "test_company_exists_name_and_url_none (functions_unittests.CheckStatusNewNameTest)\n",
      "Test case where the company exists, name changed and url/phone fields still None ... ok\n",
      "test_company_exists_only_name_has_changed (functions_unittests.CheckStatusNewNameTest)\n",
      "Test case where the company exists, only the name has changed ... ok\n",
      "test_empty_database (functions_unittests.CheckStatusNewNameTest)\n",
      "Test case where the database is empty ... ok\n",
      "test_no_company_in_finnhub (functions_unittests.CheckStatusNewNameTest)\n",
      "Test case where empty finnhub DataFrame ... ok\n",
      "test_totally_new_company (functions_unittests.CheckStatusNewNameTest)\n",
      "Test case where there is a totally new company ... ok\n",
      "test_company_exists_name_and_phone_changed (functions_unittests.KeepNewNamesTest)\n",
      "Test case where the company exists, name changed and phone changed ... ok\n",
      "test_company_exists_name_and_url_changed (functions_unittests.KeepNewNamesTest)\n",
      "Test case where the company exists, name changed and url changed ... ok\n",
      "test_company_exists_name_and_url_none (functions_unittests.KeepNewNamesTest)\n",
      "Test case where the company exists, name changed and url/phone fields still None ... ok\n",
      "test_company_exists_only_name_has_changed (functions_unittests.KeepNewNamesTest)\n",
      "Test case where the company exists, only the name has changed ... ok\n",
      "test_empty_database (functions_unittests.KeepNewNamesTest)\n",
      "Test case where the database is empty ... ok\n",
      "test_no_company_in_finnhub (functions_unittests.KeepNewNamesTest)\n",
      "Test case where empty finnhub DataFrame ... ok\n",
      "test_no_new_company_in_finnhub (functions_unittests.KeepNewNamesTest)\n",
      "Test case where the company exists ... ok\n",
      "test_totally_new_company (functions_unittests.KeepNewNamesTest)\n",
      "Test case where there is a totally new company ... ok\n",
      "\n",
      "----------------------------------------------------------------------\n",
      "Ran 15 tests in 0.320s\n",
      "\n",
      "OK\n"
     ]
    }
   ],
   "source": [
    "    # Run only the tests in the specified classe\n",
    "    test_classes_to_run = [CheckStatusNewNameTest, KeepNewNamesTest]\n",
    "\n",
    "    loader = unittest.TestLoader()\n",
    "    suites_list = []\n",
    "    for test_class in test_classes_to_run:\n",
    "        suite = loader.loadTestsFromTestCase(test_class)\n",
    "        suites_list.append(suite)\n",
    "\n",
    "    # launch the tests\n",
    "    big_suite = unittest.TestSuite(suites_list)\n",
    "    runner = unittest.TextTestRunner(stream=sys.stdout, verbosity=2)\n",
    "    results = runner.run(big_suite)"
   ]
  },
  {
   "cell_type": "code",
   "execution_count": 33,
   "metadata": {},
   "outputs": [],
   "source": [
    "# read global connection passwords from bash environment\n",
    "username = os.environ[\"POSTGRES_USER\"]\n",
    "password = os.environ[\"POSTGRES_PASSWORD\"]\n",
    "host = os.environ[\"HOST\"]\n",
    "bd_name = os.environ[\"BD_NAME\"]"
   ]
  },
  {
   "cell_type": "code",
   "execution_count": 34,
   "metadata": {},
   "outputs": [
    {
     "name": "stdout",
     "output_type": "stream",
     "text": [
      "Number of rows loaded:  120588\n",
      "Number of rows kept after ticker dropna:  71200\n",
      "Number of rows kept after drop comp name duplicates:  33496\n"
     ]
    }
   ],
   "source": [
    "# Read and clean company files\n",
    "mypath = '../data/'\n",
    "df_company_profile2 = read_csv_files(mypath)"
   ]
  },
  {
   "cell_type": "code",
   "execution_count": 5,
   "metadata": {},
   "outputs": [],
   "source": [
    "# Connect Database\n",
    "session, engine = data_base_connection(username, password, host, bd_name)"
   ]
  },
  {
   "cell_type": "code",
   "execution_count": 6,
   "metadata": {},
   "outputs": [],
   "source": [
    "# Load data from table\n",
    "df_merged_base = read_data_base(session)"
   ]
  },
  {
   "cell_type": "code",
   "execution_count": 7,
   "metadata": {},
   "outputs": [
    {
     "name": "stdout",
     "output_type": "stream",
     "text": [
      "Number of rows kept after check names already in table:  0\n"
     ]
    }
   ],
   "source": [
    "# Check the data to keep regarding the name\n",
    "df_company_new_name = keep_new_names(df_company_profile2, df_merged_base)"
   ]
  },
  {
   "cell_type": "code",
   "execution_count": 8,
   "metadata": {},
   "outputs": [
    {
     "name": "stdout",
     "output_type": "stream",
     "text": [
      "Execution time 0.00 secondes\n",
      "Number of line(s) treated : 0\n"
     ]
    }
   ],
   "source": [
    "# Check if unknow name is new company or a name changed\n",
    "df_comp_to_add, df_comp_names_changed = check_status_new_name(df_company_new_name, df_merged_base)"
   ]
  },
  {
   "cell_type": "code",
   "execution_count": 9,
   "metadata": {},
   "outputs": [
    {
     "name": "stdout",
     "output_type": "stream",
     "text": [
      "Number of rows kept after check contacts already in table:  0\n"
     ]
    }
   ],
   "source": [
    "# Check the data to keep regarding the contact changes\n",
    "df_company_new_contacts = keep_new_contacts(df_company_profile2, df_merged_base)"
   ]
  },
  {
   "cell_type": "code",
   "execution_count": 10,
   "metadata": {},
   "outputs": [
    {
     "name": "stdout",
     "output_type": "stream",
     "text": [
      "Execution time 0.00 secondes\n",
      "Number of line(s) treated : 0\n"
     ]
    }
   ],
   "source": [
    "# Check if unknow name is new company or a contact changed\n",
    "df_comp_to_add, df_comp_contacts_changed = check_status_new_name(df_company_new_contacts, df_merged_base)"
   ]
  },
  {
   "cell_type": "code",
   "execution_count": 11,
   "metadata": {},
   "outputs": [],
   "source": [
    "# Create new id for new companies\n",
    "df_comp_to_add = set_company_id(df_comp_to_add, df_merged_base)"
   ]
  },
  {
   "cell_type": "code",
   "execution_count": 12,
   "metadata": {},
   "outputs": [],
   "source": [
    "# Format the data to insert\n",
    "df_company, df_comp_description, df_comp_contact, df_comp_ipo = format_data(df_comp_to_add, df_comp_names_changed)"
   ]
  },
  {
   "cell_type": "code",
   "execution_count": 13,
   "metadata": {},
   "outputs": [],
   "source": [
    "# Insert in database\n",
    "dtype_res = {\"id_company\": Integer}\n",
    "save_table(df_company, dtype_res, \"company\", engine)\n",
    "\n",
    "dtype_res = {\"date_ipo\": String, \"id_company\": Integer}\n",
    "save_table(df_comp_ipo, dtype_res, \"companyipo\", engine)\n",
    "\n",
    "dtype_res = {\"date_description\": String, \"name\": String, \"id_company\": Integer}\n",
    "save_table(df_comp_description, dtype_res, \"companydescription\", engine)\n",
    "\n",
    "dtype_res = {\"date_contact\": String,\n",
    "             \"weburl\": String,\n",
    "             \"logo\": String,\n",
    "             \"phone\": String,\n",
    "             \"id_company\": Integer}\n",
    "save_table(df_comp_contact, dtype_res, \"companycontact\", engine)"
   ]
  },
  {
   "cell_type": "code",
   "execution_count": null,
   "metadata": {},
   "outputs": [],
   "source": []
  }
 ],
 "metadata": {
  "kernelspec": {
   "display_name": "Python 3",
   "language": "python",
   "name": "python3"
  },
  "language_info": {
   "codemirror_mode": {
    "name": "ipython",
    "version": 3
   },
   "file_extension": ".py",
   "mimetype": "text/x-python",
   "name": "python",
   "nbconvert_exporter": "python",
   "pygments_lexer": "ipython3",
   "version": "3.8.5"
  }
 },
 "nbformat": 4,
 "nbformat_minor": 4
}
